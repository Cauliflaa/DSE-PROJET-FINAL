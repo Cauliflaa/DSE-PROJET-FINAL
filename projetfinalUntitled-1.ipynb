{
 "cells": [
  {
   "cell_type": "code",
   "execution_count": null,
   "id": "717bd4cd",
   "metadata": {},
   "outputs": [],
   "source": [
    "%matplotlib inline\n",
    "import pandas as pd\n",
    "import matplotlib.pyplot as plt\n",
    "import seaborn as sns\n",
    "\n",
    "df=pd.read_csv(\"studen\")\n",
    "sns.set(style=\"whitegrid\")\n",
    "\n",
    "fig,axes=plt.subplots(2,2,figsize=(12,8))\n",
    "fig.suptitle(\"caratéristiques des étudiants\",fontsize=14)\n",
    "\n",
    "sns.histplot(df['study_hours_per_day'], bins=15, kde=true, ax=axes[0, 0])\n",
    "axes[0, 0].set_title(\"heures de sommeil/jour\")\n",
    "\n",
    "sns.histplot(df['sleep_hours'], bins=15, kde=True, ax=axes[0, 1])\n",
    "axes[0, 1].set_title(\"Heures de sommeil / jour\")\n",
    "\n",
    "sns.histplot(df['social_media_hours'], bins=15, kde=True, ax=axes[1, 0])\n",
    "axes[1, 0].set_title(\"Heures sur réseaux sociaux\")\n",
    "\n",
    "sns.histplot(df['exam_score'], bins=15, kde=True, ax=axes[1, 1])\n",
    "axes[1, 1].set_title(\"Score final à l'examen\")\n",
    "\n",
    "plt.tight_layout(rect=[0, 0.03, 1, 0.95])\n",
    "plt.show()\n",
    "\n"
   ]
  },
  {
   "cell_type": "code",
   "execution_count": null,
   "id": "0a3390fe",
   "metadata": {},
   "outputs": [],
   "source": [
    "from sklearn.model_selection import train_test_split \n",
    "from sklearn.preprocessing import LabelEncoder \n",
    "from sklearn.ensemble import RandomForestRegressor \n",
    "from sklearn.metrics import r2_score, mean_squared_error, mean_absolute_error \n",
    "import numpy as np \n",
    "import matplotlib.pyplot as plt \n",
    "import pandas as pd \n",
    "\n",
    "df = pd.read_csv(\"student_habits_performance.csv\") \n",
    "df_clean = df.drop(columns=['student_id']).copy() \n",
    "for col in df_clean.select_dtypes(include='object').columns: df_clean[col] = LabelEncoder().fit_transform(df_clean[col]) \n",
    "\n",
    "X = df_clean.drop(columns=['exam_score']) \n",
    "y = df_clean['exam_score'] \n",
    "X_train, X_test, y_train, y_test = train_test_split(X, y, test_size=0.2, random_state=42) \n",
    "\n",
    "model = RandomForestRegressor(n_estimators=100, random_state=42) \n",
    "model.fit(X_train, y_train) \n",
    "y_pred = model.predict(X_test) \n",
    "\n",
    "print(\"R² Score:\", r2_score(y_test, y_pred)) \n",
    "print(\"MAE:\", mean_absolute_error(y_test, y_pred)) \n",
    "print(\"RMSE:\", np.sqrt(mean_squared_error(y_test, y_pred))) \n",
    "\n",
    "importances = pd.Series(model.feature_importances_, index=X.columns) \n",
    "importances.sort_values().plot(kind='barh', figsize=(8, 5), title=\"Importance des variables\") \n",
    "plt.xlabel(\"Importance\") \n",
    "plt.tight_layout() \n",
    "plt.show()"
   ]
  },
  {
   "cell_type": "markdown",
   "id": "1080108f",
   "metadata": {},
   "source": []
  },
  {
   "cell_type": "code",
   "execution_count": null,
   "id": "a52c5510",
   "metadata": {},
   "outputs": [],
   "source": []
  }
 ],
 "metadata": {
  "language_info": {
   "name": "python"
  }
 },
 "nbformat": 4,
 "nbformat_minor": 5
}
